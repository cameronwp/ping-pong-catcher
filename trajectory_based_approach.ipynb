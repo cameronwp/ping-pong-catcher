{
 "cells": [
  {
   "cell_type": "markdown",
   "source": "# Ping Pong Catching\n\n## Trajectory Based Approach\n\n_Final Project for 6.843, Fall 2021_\n\n_Viraj Parimi, Cameron Pittman_",
   "metadata": {
    "cell_id": "00000-d257682a-72a8-449c-8349-ca78a0421df7",
    "deepnote_cell_type": "markdown"
   }
  },
  {
   "cell_type": "code",
   "metadata": {
    "deepnote_to_be_reexecuted": false,
    "execution_millis": 858,
    "execution_start": 1638928467805,
    "source_hash": "ec6e717c",
    "cell_id": "00001-302b163d-4ef3-4ef9-a9e9-49fafc53f708",
    "deepnote_cell_type": "code"
   },
   "source": "import time\nimport pydot\nimport numpy as np\nfrom iiwa_paddle_station import MakeIiwaPaddleStation\nfrom manipulation.meshcat_cpp_utils import (\n    StartMeshcat\n)\nfrom pydrake.all import (\n    BasicVector, DiagramBuilder, LeafSystem, MeshcatVisualizerCpp, \n    MeshcatVisualizerParams, PiecewisePose, RigidTransform, Simulator, TrajectorySource, RotationMatrix, \n    Integrator, JacobianWrtVariable\n)",
   "outputs": [],
   "execution_count": null
  },
  {
   "cell_type": "code",
   "metadata": {
    "deepnote_output_heights": [
     21
    ],
    "deepnote_to_be_reexecuted": false,
    "execution_millis": 188,
    "execution_start": 1638928468667,
    "source_hash": "67118576",
    "cell_id": "00002-dc5e775d-0d7b-4441-91d1-16549ab61d4d",
    "deepnote_cell_type": "code"
   },
   "source": "meshcat = StartMeshcat()",
   "outputs": [
    {
     "data": {
      "text/plain": "<IPython.core.display.HTML object>",
      "text/html": "Meshcat is now available at <a href=\"http://f8be-18-208-154-54.ngrok.io\">http://f8be-18-208-154-54.ngrok.io</a>"
     },
     "metadata": {},
     "output_type": "display_data"
    }
   ],
   "execution_count": null
  },
  {
   "cell_type": "markdown",
   "source": "### Define Controller",
   "metadata": {
    "tags": [],
    "cell_id": "00011-1e4bee09-5b12-48a6-a2ad-48323ff1cf29",
    "deepnote_cell_type": "markdown"
   }
  },
  {
   "cell_type": "code",
   "metadata": {
    "tags": [],
    "cell_id": "00012-fffb5044-d502-43ff-b2d0-46db8ee0f930",
    "deepnote_to_be_reexecuted": false,
    "source_hash": "be385c3f",
    "execution_start": 1638928468863,
    "execution_millis": 20,
    "deepnote_cell_type": "code"
   },
   "source": "class PseudoInverseController(LeafSystem):\n    \"\"\"\n    Based on the PseudoInverseController from pset3/robot_painter\n    \"\"\"\n\n    def __init__(self, plant):\n\n        LeafSystem.__init__(self)\n        \n        self.plant = plant\n        self.W = plant.world_frame()\n        self.plant_context = plant.CreateDefaultContext()\n        self.iiwa = plant.GetModelInstanceByName(\"iiwa7\")\n        self.P = plant.GetBodyByName(\"base_link\").body_frame()\n        self.iiwa_start = self.plant.GetJointByName(\"iiwa_joint_1\").velocity_start()\n        self.iiwa_end = self.plant.GetJointByName(\"iiwa_joint_7\").velocity_start()\n\n        # Inputs\n        self.q_port = self.DeclareVectorInputPort(\"iiwa_pos_measured\", BasicVector(7))\n        self.w_P_port = self.DeclareVectorInputPort(\"paddle_desired_angular_velocity\", BasicVector(3))\n        self.v_P_port = self.DeclareVectorInputPort(\"paddle_desired_velocity\", BasicVector(3))\n\n        # Outputs\n        self.DeclareVectorOutputPort(\"iiwa_velocity\", BasicVector(7), self.CalcOutput)\n\n    def CalcOutput(self, context, output):\n\n        q = self.q_port.Eval(context)\n        w_P = self.w_P_port.Eval(context)\n        v_P = self.v_P_port.Eval(context)\n        self.plant.SetPositions(self.plant_context, self.iiwa, q)\n        J_P = self.plant.CalcJacobianSpatialVelocity(\n            self.plant_context,\n            JacobianWrtVariable.kV,\n            self.P,\n            [0, 0, 0],\n            self.W,\n            self.W,\n        )\n        J_P = J_P[:, self.iiwa_start : self.iiwa_end + 1]\n        V_P = np.hstack([w_P, v_P])\n        v = np.linalg.pinv(J_P).dot(V_P)\n        \n        output.SetFromVector(v)\n",
   "outputs": [],
   "execution_count": null
  },
  {
   "cell_type": "markdown",
   "source": "### Constants",
   "metadata": {
    "tags": [],
    "cell_id": "00005-d9ecb0e5-6d4a-40e5-8cf5-ec1a98f9fe9a",
    "deepnote_cell_type": "markdown"
   }
  },
  {
   "cell_type": "code",
   "source": "iiwa_q0 = np.array([-1.57, 0, 0, -np.pi/2, 0, 0, 0])\npaddle_state_pos = np.array([0.07659419, -0.75730758, 0.63302061])\n\ng = -9.81\nheight = 1\noffset = 0.5\nz_delta = 0.05\nsimulation_time = 3\nnum_key_frames = 10",
   "metadata": {
    "tags": [],
    "cell_id": "00006-d5ec6802-177b-48cd-862f-210c091e09d5",
    "deepnote_to_be_reexecuted": false,
    "source_hash": "32d78e3c",
    "execution_start": 1638928468890,
    "execution_millis": 5,
    "deepnote_cell_type": "code"
   },
   "outputs": [],
   "execution_count": null
  },
  {
   "cell_type": "markdown",
   "source": "### Define Initial States",
   "metadata": {
    "tags": [],
    "cell_id": "00013-813e100a-1eff-4b36-b1b3-b9c30f3a54f3",
    "deepnote_cell_type": "markdown"
   }
  },
  {
   "cell_type": "code",
   "metadata": {
    "tags": [],
    "cell_id": "00013-49c2c69f-124c-4a5e-abed-e72583efaab4",
    "deepnote_to_be_reexecuted": false,
    "source_hash": "96812bf5",
    "execution_start": 1638928468921,
    "execution_millis": 31,
    "deepnote_cell_type": "code"
   },
   "source": "# Experiment 1 - drop on top of the paddle\nball_q0_exp1 = [1, 1, 1, 1, paddle_state_pos[0], paddle_state_pos[1], paddle_state_pos[2] + height, 0, 0, 0, 0, 0, 0]\n\n# Experiment 2 - drop from (+ve x) offset with (-ve x) velocity\nball_q0_exp2 = [1, 1, 1, 1, paddle_state_pos[0] + offset, paddle_state_pos[1], paddle_state_pos[2] + height, 0, 0, 0, -1, 0, 0]\n\n# Experiment 3 - drop from (-ve x) offset with (+ve x) velocity\nball_q0_exp3 = [1, 1, 1, 1, paddle_state_pos[0] - offset, paddle_state_pos[1], paddle_state_pos[2] + height, 0, 0, 0, 1, 0, 0]\n\n# Experiment 4 - drop from (-ve y) offset with (+ve y) velocity\nball_q0_exp4 = [1, 1, 1, 1, paddle_state_pos[0], paddle_state_pos[1] - offset, paddle_state_pos[2] + height, 0, 0, 0, 0, 1, 0]\n\n# Experiment 5 - drop from (+ve y) offset with (-ve y) velocity\nball_q0_exp5 = [1, 1, 1, 1, paddle_state_pos[0], paddle_state_pos[1] + offset, paddle_state_pos[2] + height, 0, 0, 0, 0, -1, 0]\n\n# Experiment 6 - drop from (-ve x, -ve y) offset with (+ve x, +ve y) velocity\nball_q0_exp6 = [1, 1, 1, 1, paddle_state_pos[0] - offset, paddle_state_pos[1] - offset, paddle_state_pos[2] + height, 0, 0, 0, 1, 1, 0]\n\n# Experiment 7 - drop from (-ve x, +ve y) offset with (+ve x, -ve y) velocity\nball_q0_exp7 = [1, 1, 1, 1, paddle_state_pos[0] - offset, paddle_state_pos[1] + offset, paddle_state_pos[2] + height, 0, 0, 1, -1, 0, 0]\n\n# Experiment 8 - drop from (+ve x, -ve y) offset with (-ve x, +ve y) velocity\nball_q0_exp8 = [1, 1, 1, 1, paddle_state_pos[0] + offset, paddle_state_pos[1] - offset, paddle_state_pos[2] + height, 0, 0, 0, -1, 1, 0]\n\n# Experiment 9 - drop from (+ve x, +ve y) offset with (-ve x, -ve y) velocity\nball_q0_exp9 = [1, 1, 1, 1, paddle_state_pos[0] + offset, paddle_state_pos[1] + offset, paddle_state_pos[2] + height, 0, 0, 0, -1, -1, 0]\n\nscenarios = [ball_q0_exp1, ball_q0_exp2, ball_q0_exp3, ball_q0_exp4, ball_q0_exp5, ball_q0_exp6, ball_q0_exp7, ball_q0_exp8, ball_q0_exp9]",
   "outputs": [],
   "execution_count": null
  },
  {
   "cell_type": "markdown",
   "source": "### Define Trajectory",
   "metadata": {
    "tags": [],
    "cell_id": "00011-7ed1acc8-9826-4a7f-9df6-272aa79a3a9e",
    "deepnote_cell_type": "markdown"
   }
  },
  {
   "cell_type": "code",
   "metadata": {
    "tags": [],
    "cell_id": "00012-62f5f281-03b0-43be-930a-f0a4df31b76b",
    "deepnote_to_be_reexecuted": false,
    "source_hash": "4f931e",
    "execution_start": 1638928468952,
    "execution_millis": 1,
    "deepnote_output_heights": [
     193.875,
     193.875
    ],
    "deepnote_cell_type": "code"
   },
   "source": "X_WP = RigidTransform(RotationMatrix(np.identity(3)), paddle_state_pos)\n\nscenario_trajectories = []\nfor experiment in scenarios:\n    \n    key_frame_poses = [X_WP]\n    paddle_pos = paddle_state_pos\n    time_intervals = np.linspace(0, simulation_time, num_key_frames + 1)\n\n    for i in range(num_key_frames):\n        prev_pose = key_frame_poses[i]\n        new_pose = prev_pose\n        if i <= 5:\n            new_pose_translation = prev_pose.translation() - np.array([0, 0, z_delta])\n        else:\n            new_pose_translation = prev_pose.translation() + np.array([0, 0, z_delta])\n        key_frame_poses.append(RigidTransform(prev_pose.rotation(), new_pose_translation))\n\n    traj = PiecewisePose.MakeLinear(time_intervals, key_frame_poses)\n    scenario_trajectories.append(traj)",
   "outputs": [],
   "execution_count": null
  },
  {
   "cell_type": "markdown",
   "source": "###  Experimental Setup",
   "metadata": {
    "tags": [],
    "cell_id": "00011-44d878bd-3dd9-4457-9293-369224bd1257",
    "deepnote_cell_type": "markdown"
   }
  },
  {
   "cell_type": "code",
   "metadata": {
    "tags": [],
    "cell_id": "00020-81249289-5e96-4b68-9a12-37d6ca9f4df4",
    "deepnote_to_be_reexecuted": false,
    "source_hash": "ed4d9dd7",
    "execution_start": 1638928468953,
    "execution_millis": 23,
    "deepnote_cell_type": "code"
   },
   "source": "class Demo:\n    def __init__(self, time_step=0.001, exp_idx = 0):\n        \"\"\"\n        Robotic Kuka iiwa with paddle end effector\n\n        Args:\n            time_step (float, optional): time step for internal manipulation station controller. Defaults to 0.001.\n            exp_idx (int, optional): experiment index to run. Defaults to 0.\n        \"\"\"\n        \n        self.time = 0\n        self.metric = 0\n        \n        diagram, plant, scene_graph = MakeIiwaPaddleStation(time_step=time_step)\n        \n        self.plant = plant\n        self.builder = DiagramBuilder()\n        self.station = self.builder.AddSystem(diagram)\n        \n        self.visualizer = MeshcatVisualizerCpp.AddToBuilder(\n            self.builder,\n            diagram.GetOutputPort(\"geometry_query\"),\n            meshcat,\n            MeshcatVisualizerParams(delete_prefix_initialization_event=False)\n        )\n\n        self.plant.mutable_gravity_field().set_gravity_vector([0, 0, g])\n\n        traj_v_P = scenario_trajectories[exp_idx].get_position_trajectory().MakeDerivative()\n        traj_w_P = scenario_trajectories[exp_idx].get_orientation_trajectory().MakeDerivative()\n        v_P_source = self.builder.AddSystem(TrajectorySource(traj_v_P))\n        w_P_source = self.builder.AddSystem(TrajectorySource(traj_w_P))\n\n\n        ik_sys = self.builder.AddSystem(PseudoInverseController(self.plant))\n        ik_sys.set_name(\"ik_sys\")\n        integrator = self.builder.AddSystem(Integrator(7))\n        integrator.set_name(\"integrator\")\n\n        self.builder.Connect(ik_sys.get_output_port(), integrator.get_input_port())\n        self.builder.Connect(integrator.get_output_port(), self.station.GetInputPort(\"iiwa_position\"))\n        self.builder.Connect(v_P_source.get_output_port(), ik_sys.GetInputPort(\"paddle_desired_velocity\"))\n        self.builder.Connect(w_P_source.get_output_port(), ik_sys.GetInputPort(\"paddle_desired_angular_velocity\"))\n        self.builder.Connect(self.station.GetOutputPort(\"iiwa_position_measured\"), ik_sys.GetInputPort(\"iiwa_pos_measured\"))\n        \n        self.diagram = self.builder.Build()\n        self.simulator = Simulator(self.diagram)\n        self.simulator.set_target_realtime_rate(1.0)\n\n        self.context = self.simulator.get_context()\n        self.station_context = self.station.GetMyContextFromRoot(self.context)\n        self.plant_context = self.plant.GetMyContextFromRoot(self.context)\n\n        self.plant.SetPositions(self.plant_context, self.plant.GetModelInstanceByName(\"iiwa7\"), np.array(iiwa_q0))\n        self.plant.SetPositionsAndVelocities(self.plant_context, self.plant.GetModelInstanceByName(\"ball\"), np.array(scenarios[exp_idx]))\n\n        self.station.GetInputPort(\"iiwa_feedforward_torque\").FixValue(self.station_context, np.zeros((7,1)))\n        iiwa_q = self.plant.GetPositions(self.plant_context, self.plant.GetModelInstanceByName(\"iiwa7\"))\n        integrator.GetMyContextFromRoot(self.context).get_mutable_continuous_state_vector().SetFromVector(iiwa_q)\n\n    def step(self, simulate=True, duration=0.1, final=True):\n        \"\"\"\n        Step the closed loop system\n\n        Args:\n            simulate (bool, optional): whether or not to visualize the command. Defaults to True.\n            duration (float, optional): duration to complete command in simulation. Defaults to 0.1.\n            final (bool, optional): whether or not this is the final command in the sequence; relevant for recording. Defaults to True.\n        \"\"\"\n        if simulate:\n\n            self.visualizer.StartRecording()\n            self.simulator.AdvanceTo(self.time + duration)\n            self.visualizer.StopRecording()\n\n            # Compute the stability metric\n            contact_results = self.plant.get_contact_results_output_port().Eval(self.plant_context)\n            for i in range(contact_results.num_point_pair_contacts()):\n                info = contact_results.point_pair_contact_info(i)\n                bodyA = self.plant.get_body(info.bodyA_index()).name()\n                bodyB = self.plant.get_body(info.bodyB_index()).name()\n                if (bodyA == \"ball\" and bodyB == \"base_link\") or (bodyA == \"base_link\" and bodyB == \"ball\"):\n                    self.metric += duration\n\n            if final:\n                self.visualizer.PublishRecording()\n                return self.time + duration\n\n        self.time += duration",
   "outputs": [],
   "execution_count": null
  },
  {
   "cell_type": "markdown",
   "source": "### Experiments",
   "metadata": {
    "tags": [],
    "cell_id": "00011-893d6244-9b38-4bd6-81f7-e36964c4f146",
    "deepnote_cell_type": "markdown"
   }
  },
  {
   "cell_type": "code",
   "metadata": {
    "tags": [],
    "cell_id": "00021-d47dd91d-2dc2-4b2a-ad1f-ecb039a9f533",
    "deepnote_to_be_reexecuted": false,
    "source_hash": "a0ebe4d8",
    "execution_start": 1638928469097,
    "execution_millis": 82139,
    "deepnote_output_heights": [
     78.75
    ],
    "deepnote_cell_type": "code"
   },
   "source": "time_step = .0005\n\nfor idx, experiment in enumerate(scenarios):\n    \n    start_time = time.perf_counter()\n    demo = Demo(time_step=time_step, exp_idx=idx)\n\n    seconds = simulation_time\n    for i in range(int(seconds * 20)):\n        t = demo.step(duration=0.05, final=i==seconds * 20 - 1)\n        if t is not None and t != seconds:\n            break\n    end_time = time.perf_counter()\n\n    metric_val = demo.metric\n    print(\"Experiment: \", idx)\n    print(\"Stability Metric: \", metric_val)\n    print(\"Total Time(s): \", (end_time - start_time))",
   "outputs": [
    {
     "name": "stdout",
     "text": "Experiment:  0\nStability Metric:  2.3\nTotal Time(s):  8.959560962975956\nExperiment:  1\nStability Metric:  2.25\nTotal Time(s):  9.21304823202081\nExperiment:  2\nStability Metric:  0.25\nTotal Time(s):  9.156333962047938\nExperiment:  3\nStability Metric:  2.3999999999999995\nTotal Time(s):  8.980217042961158\nExperiment:  4\nStability Metric:  2.3999999999999995\nTotal Time(s):  9.490908759995364\nExperiment:  5\nStability Metric:  0.1\nTotal Time(s):  9.019171944994014\nExperiment:  6\nStability Metric:  0\nTotal Time(s):  8.867588209046517\nExperiment:  7\nStability Metric:  0.15000000000000002\nTotal Time(s):  9.340394524973817\nExperiment:  8\nStability Metric:  0.05\nTotal Time(s):  9.215147006034385\n",
     "output_type": "stream"
    }
   ],
   "execution_count": null
  },
  {
   "cell_type": "markdown",
   "source": "<a style='text-decoration:none;line-height:16px;display:flex;color:#5B5B62;padding:10px;justify-content:end;' href='https://deepnote.com?utm_source=created-in-deepnote-cell&projectId=b95b60bf-1e32-44f8-a07c-9240db62d20a' target=\"_blank\">\n<img alt='Created in deepnote.com' style='display:inline;max-height:16px;margin:0px;margin-right:7.5px;' src='data:image/svg+xml;base64,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' > </img>\nCreated in <span style='font-weight:600;margin-left:4px;'>Deepnote</span></a>",
   "metadata": {
    "tags": [],
    "created_in_deepnote_cell": true,
    "deepnote_cell_type": "markdown"
   }
  }
 ],
 "nbformat": 4,
 "nbformat_minor": 5,
 "metadata": {
  "deepnote": {},
  "deepnote_execution_queue": [],
  "deepnote_notebook_id": "7b711c02-a9e2-4e1f-b313-4bff3c28964d",
  "kernelspec": {
   "display_name": "Python 3 (ipykernel)",
   "language": "python",
   "name": "python3"
  },
  "language_info": {
   "codemirror_mode": {
    "name": "ipython",
    "version": 3
   },
   "file_extension": ".py",
   "mimetype": "text/x-python",
   "name": "python",
   "nbconvert_exporter": "python",
   "pygments_lexer": "ipython3",
   "version": "3.8.10"
  }
 }
}