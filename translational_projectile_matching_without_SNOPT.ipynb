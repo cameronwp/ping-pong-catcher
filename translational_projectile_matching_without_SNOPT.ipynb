{
 "cells": [
  {
   "cell_type": "markdown",
   "source": "# Ping Pong Catching\n\n### Translational Projectile Matching without SNOPT\n\n_Final Project for 6.843, Fall 2021_\n\n_Viraj Parimi, Cameron Pittman_",
   "metadata": {
    "cell_id": "00000-a0eb86b2-971c-415c-8e85-e69e16110ceb",
    "deepnote_cell_type": "markdown"
   }
  },
  {
   "cell_type": "code",
   "metadata": {
    "deepnote_to_be_reexecuted": false,
    "execution_millis": 1410,
    "execution_start": 1638928874244,
    "source_hash": "134bf6df",
    "cell_id": "00001-adb34361-b66b-4d18-990b-dd97b03f5417",
    "deepnote_cell_type": "code"
   },
   "source": "import time\nimport pydot\nimport numpy as np\nfrom manipulation.meshcat_cpp_utils import (\n    StartMeshcat\n)\nfrom pydrake.systems.meshcat_visualizer import MeshcatVisualizer\nfrom meshcat.servers.zmqserver import start_zmq_server_as_subprocess\n\nfrom pydrake.all import (\n    BasicVector, DiagramBuilder, Integrator, JacobianWrtVariable, LeafSystem, MeshcatVisualizerCpp,\n    MeshcatVisualizerParams, Simulator\n)\n\nfrom iiwa_paddle_station import MakeIiwaPaddleStation\nproc, zmq_url, web_url = start_zmq_server_as_subprocess(server_args=[])",
   "outputs": [],
   "execution_count": null
  },
  {
   "cell_type": "code",
   "metadata": {
    "tags": [],
    "deepnote_to_be_reexecuted": false,
    "source_hash": "67118576",
    "execution_start": 1638928875660,
    "execution_millis": 157,
    "deepnote_output_heights": [
     21.1875,
     21.1875
    ],
    "is_output_hidden": false,
    "cell_id": "00002-5de3f132-f2e5-4098-a9e1-a431146111e9",
    "deepnote_cell_type": "code"
   },
   "source": "meshcat = StartMeshcat()",
   "outputs": [
    {
     "name": "stderr",
     "text": "t=2021-12-08T02:01:15+0000 lvl=warn msg=\"can't bind default web address, trying alternatives\" obj=web addr=127.0.0.1:4040\n",
     "output_type": "stream"
    },
    {
     "data": {
      "text/plain": "<IPython.core.display.HTML object>",
      "text/html": "Meshcat is now available at <a href=\"http://029a-18-208-154-54.ngrok.io\">http://029a-18-208-154-54.ngrok.io</a>"
     },
     "metadata": {},
     "output_type": "display_data"
    }
   ],
   "execution_count": null
  },
  {
   "cell_type": "markdown",
   "source": "### Define Controller",
   "metadata": {
    "tags": [],
    "cell_id": "00003-3a11a9b9-ff98-48a0-a669-b54b7ad00110",
    "deepnote_cell_type": "markdown"
   }
  },
  {
   "cell_type": "code",
   "metadata": {
    "tags": [],
    "deepnote_to_be_reexecuted": false,
    "source_hash": "be385c3f",
    "execution_start": 1638928875824,
    "execution_millis": 48,
    "cell_id": "00003-6117e124-8c2f-4348-a2cf-f3206b17eaf0",
    "deepnote_cell_type": "code"
   },
   "source": "class PseudoInverseController(LeafSystem):\n    \"\"\"\n    Based on the PseudoInverseController from pset3/robot_painter\n    \"\"\"\n\n    def __init__(self, plant):\n\n        LeafSystem.__init__(self)\n        \n        self.plant = plant\n        self.W = plant.world_frame()\n        self.plant_context = plant.CreateDefaultContext()\n        self.iiwa = plant.GetModelInstanceByName(\"iiwa7\")\n        self.P = plant.GetBodyByName(\"base_link\").body_frame()\n        self.iiwa_start = self.plant.GetJointByName(\"iiwa_joint_1\").velocity_start()\n        self.iiwa_end = self.plant.GetJointByName(\"iiwa_joint_7\").velocity_start()\n\n        # Inputs\n        self.q_port = self.DeclareVectorInputPort(\"iiwa_pos_measured\", BasicVector(7))\n        self.w_P_port = self.DeclareVectorInputPort(\"paddle_desired_angular_velocity\", BasicVector(3))\n        self.v_P_port = self.DeclareVectorInputPort(\"paddle_desired_velocity\", BasicVector(3))\n\n        # Outputs\n        self.DeclareVectorOutputPort(\"iiwa_velocity\", BasicVector(7), self.CalcOutput)\n\n    def CalcOutput(self, context, output):\n\n        q = self.q_port.Eval(context)\n        w_P = self.w_P_port.Eval(context)\n        v_P = self.v_P_port.Eval(context)\n        self.plant.SetPositions(self.plant_context, self.iiwa, q)\n        J_P = self.plant.CalcJacobianSpatialVelocity(\n            self.plant_context,\n            JacobianWrtVariable.kV,\n            self.P,\n            [0, 0, 0],\n            self.W,\n            self.W,\n        )\n        J_P = J_P[:, self.iiwa_start : self.iiwa_end + 1]\n        V_P = np.hstack([w_P, v_P])\n        v = np.linalg.pinv(J_P).dot(V_P)\n        \n        output.SetFromVector(v)\n",
   "outputs": [],
   "execution_count": null
  },
  {
   "cell_type": "markdown",
   "source": "### Constants",
   "metadata": {
    "tags": [],
    "cell_id": "00005-b3d932dc-4653-470d-99da-28c55def998b",
    "deepnote_cell_type": "markdown"
   }
  },
  {
   "cell_type": "code",
   "metadata": {
    "tags": [],
    "cell_id": "00005-cea0b69c-3f28-4d16-a740-97cbedb25f83",
    "deepnote_to_be_reexecuted": false,
    "source_hash": "5449c85",
    "execution_start": 1638928875872,
    "execution_millis": 1,
    "deepnote_cell_type": "code"
   },
   "source": "iiwa_q0 = np.array([-1.57, 0, 0, -np.pi/2, 0, 0, 0])\npaddle_state_pos = np.array([0.07659419, -0.75730758, 0.63302061])\n\ng = -9.81\nheight = 1\noffset = 0.5\nCATCH_HEIGHT = 0.55\nsimulation_time = 3\ne_z = np.array([0, 0, 1], dtype = float)",
   "outputs": [],
   "execution_count": null
  },
  {
   "cell_type": "markdown",
   "source": "### Define Initial States",
   "metadata": {
    "tags": [],
    "cell_id": "00008-14868634-4327-4191-b49a-790a03e00a51",
    "deepnote_cell_type": "markdown"
   }
  },
  {
   "cell_type": "code",
   "metadata": {
    "tags": [],
    "cell_id": "00005-47b5521b-7034-45c4-a782-6e24d75beff9",
    "deepnote_to_be_reexecuted": false,
    "source_hash": "96812bf5",
    "execution_start": 1638928875873,
    "execution_millis": 30,
    "deepnote_cell_type": "code"
   },
   "source": "# Experiment 1 - drop on top of the paddle\nball_q0_exp1 = [1, 1, 1, 1, paddle_state_pos[0], paddle_state_pos[1], paddle_state_pos[2] + height, 0, 0, 0, 0, 0, 0]\n\n# Experiment 2 - drop from (+ve x) offset with (-ve x) velocity\nball_q0_exp2 = [1, 1, 1, 1, paddle_state_pos[0] + offset, paddle_state_pos[1], paddle_state_pos[2] + height, 0, 0, 0, -1, 0, 0]\n\n# Experiment 3 - drop from (-ve x) offset with (+ve x) velocity\nball_q0_exp3 = [1, 1, 1, 1, paddle_state_pos[0] - offset, paddle_state_pos[1], paddle_state_pos[2] + height, 0, 0, 0, 1, 0, 0]\n\n# Experiment 4 - drop from (-ve y) offset with (+ve y) velocity\nball_q0_exp4 = [1, 1, 1, 1, paddle_state_pos[0], paddle_state_pos[1] - offset, paddle_state_pos[2] + height, 0, 0, 0, 0, 1, 0]\n\n# Experiment 5 - drop from (+ve y) offset with (-ve y) velocity\nball_q0_exp5 = [1, 1, 1, 1, paddle_state_pos[0], paddle_state_pos[1] + offset, paddle_state_pos[2] + height, 0, 0, 0, 0, -1, 0]\n\n# Experiment 6 - drop from (-ve x, -ve y) offset with (+ve x, +ve y) velocity\nball_q0_exp6 = [1, 1, 1, 1, paddle_state_pos[0] - offset, paddle_state_pos[1] - offset, paddle_state_pos[2] + height, 0, 0, 0, 1, 1, 0]\n\n# Experiment 7 - drop from (-ve x, +ve y) offset with (+ve x, -ve y) velocity\nball_q0_exp7 = [1, 1, 1, 1, paddle_state_pos[0] - offset, paddle_state_pos[1] + offset, paddle_state_pos[2] + height, 0, 0, 1, -1, 0, 0]\n\n# Experiment 8 - drop from (+ve x, -ve y) offset with (-ve x, +ve y) velocity\nball_q0_exp8 = [1, 1, 1, 1, paddle_state_pos[0] + offset, paddle_state_pos[1] - offset, paddle_state_pos[2] + height, 0, 0, 0, -1, 1, 0]\n\n# Experiment 9 - drop from (+ve x, +ve y) offset with (-ve x, -ve y) velocity\nball_q0_exp9 = [1, 1, 1, 1, paddle_state_pos[0] + offset, paddle_state_pos[1] + offset, paddle_state_pos[2] + height, 0, 0, 0, -1, -1, 0]\n\nscenarios = [ball_q0_exp1, ball_q0_exp2, ball_q0_exp3, ball_q0_exp4, ball_q0_exp5, ball_q0_exp6, ball_q0_exp7, ball_q0_exp8, ball_q0_exp9]",
   "outputs": [],
   "execution_count": null
  },
  {
   "cell_type": "markdown",
   "source": "### Utility Functions",
   "metadata": {
    "tags": [],
    "cell_id": "00009-416853b9-ee85-46da-adba-e98cc694a5bf",
    "deepnote_cell_type": "markdown"
   }
  },
  {
   "cell_type": "code",
   "metadata": {
    "tags": [],
    "cell_id": "00010-243c89b2-c631-452f-80bb-1ad6ece78b0f",
    "deepnote_to_be_reexecuted": false,
    "source_hash": "5c9d8374",
    "execution_start": 1638928875903,
    "execution_millis": 0,
    "deepnote_cell_type": "code"
   },
   "source": "def ball_p_from_state(pose):\n    \"\"\"\n    Get x, y, z from ball_state\n\n    Params:\n        BasicVector(13)\n    Returns:\n        array[3]\n    \"\"\"\n    return pose[4:7]\n\n\ndef ball_v_from_state(pose):\n    \"\"\"\n    Get translational velocity from ball_state\n\n    Params:\n        BasicVector(13)\n    Returns:\n        array[3]\n    \"\"\"\n    return pose[-3:]\n\n\ndef get_mode(p_ball, v_ball, p_paddle, atol = 1e-03):\n    \"\"\"\n    Determine current paddle mode\n\n    Output is one of: \"rising\", \"falling\", \"contact\"\n    \"\"\"\n    b_z = p_ball[2]\n    vz = v_ball[2]\n    p_z = p_paddle[2]\n\n    if np.isclose(b_z, p_z, atol=atol):\n        return \"contact\"\n    else:\n        return \"rising\" if vz >= 0 else \"falling\"",
   "outputs": [],
   "execution_count": null
  },
  {
   "cell_type": "markdown",
   "source": "### Define the Catcher class",
   "metadata": {
    "tags": [],
    "cell_id": "00011-4c1934b6-61ed-46c3-bc5d-d34c692ac4b1",
    "deepnote_cell_type": "markdown"
   }
  },
  {
   "cell_type": "code",
   "metadata": {
    "tags": [],
    "cell_id": "00005-521b77c1-b1be-407d-ba61-391a2384da50",
    "deepnote_to_be_reexecuted": false,
    "source_hash": "a4568e7b",
    "execution_start": 1638928875904,
    "execution_millis": 19,
    "deepnote_cell_type": "code"
   },
   "source": "class Catcher(LeafSystem):\n    \"\"\"\n    Catcher class that computes the trajectory of ball and outputs desired velocity estimates of the\n    paddle to reach the ball at a fixed height. This approach does not compute the desired angular \n    velocity estimates of the paddle.\n    \"\"\"\n\n    def __init__(self, plant):\n\n        LeafSystem.__init__(self)\n        \n        self.plant = plant\n        self.t_catch = None\n        self.first_fall = True\n        self.W = plant.world_frame()\n        self.ball = plant.GetBodyByName(\"ball\")\n        self.P = plant.GetBodyByName(\"base_link\")\n        self.iiwa = plant.GetModelInstanceByName(\"iiwa7\")\n        self.plant_context = plant.CreateDefaultContext()\n\n        # Inputs\n        self.DeclareVectorInputPort(\"ball_state\", BasicVector(13))\n        self.DeclareVectorInputPort(\"iiwa_pos_measured\", BasicVector(7))\n        self.DeclareVectorInputPort(\"iiwa_velocity_estimated\", BasicVector(7))\n        \n        # Outputs\n        self.DeclareVectorOutputPort(\"paddle_desired_velocity\", BasicVector(3), self.CalcDesVelOutput)\n        self.DeclareVectorOutputPort(\"paddle_desired_angular_velocity\", BasicVector(3), self.CalcDesOrientOutput)\n\n    def compute_time_of_impact(self, p_bz, v_bz, catch_height):\n        g_pos = abs(g)\n        return (1. / g_pos) * (v_bz + np.sqrt(v_bz**2 + 2 * g_pos * abs(p_bz - catch_height)))\n\n    def CalcDesOrientOutput(self, context, output):\n        # Does not compute the desired orientation of the paddle\n        output.SetFromVector(np.zeros(3))\n\n    def CalcDesVelOutput(self, context, output):\n\n        q = self.GetInputPort(\"iiwa_pos_measured\").Eval(context)\n        v = self.GetInputPort(\"iiwa_velocity_estimated\").Eval(context)\n        self.plant.SetPositionsAndVelocities(self.plant_context, self.iiwa, np.hstack([q, v]))\n        \n        state_Ball = np.array(self.GetInputPort(\"ball_state\").Eval(context))\n        p_Ball = ball_p_from_state(state_Ball)\n        v_Ball = ball_v_from_state(state_Ball)\n         \n        p_Paddle = self.plant.EvalBodyPoseInWorld(self.plant_context, self.P).translation()\n        v_Paddle = self.plant.EvalBodySpatialVelocityInWorld(self.plant_context, self.P).translational()\n\n        time_of_contact = self.compute_time_of_impact(p_Ball[2], v_Ball[2], CATCH_HEIGHT)\n\n        pred_position_of_ball_at_impact = p_Ball + v_Ball * time_of_contact + (g / 2) * e_z * time_of_contact ** 2\n        pred_velocity_of_ball_at_impact = v_Ball + g * e_z * time_of_contact\n        \n        d_paddle_to_contact = p_Paddle[2] - CATCH_HEIGHT\n        time_P_to_reach_catch_height = abs(d_paddle_to_contact / pred_velocity_of_ball_at_impact[2])\n\n        mode = get_mode(p_Ball, v_Ball, p_Paddle, atol=1e-02)\n        \n        if mode == \"falling\" and self.first_fall:\n            v_P_desired = pred_velocity_of_ball_at_impact * (time_P_to_reach_catch_height / time_of_contact)\n        else:\n            self.first_fall = False\n            v_P_desired = np.zeros(3)\n        \n        output.SetFromVector(v_P_desired)\n",
   "outputs": [],
   "execution_count": null
  },
  {
   "cell_type": "markdown",
   "source": "### Experimental Setup",
   "metadata": {
    "tags": [],
    "cell_id": "00013-864d4209-b342-4cdf-ac3e-0dbe168a8886",
    "deepnote_cell_type": "markdown"
   }
  },
  {
   "cell_type": "code",
   "metadata": {
    "deepnote_output_heights": [
     596.8125,
     596.8125
    ],
    "deepnote_to_be_reexecuted": false,
    "source_hash": "af0c68b7",
    "execution_start": 1638928875931,
    "execution_millis": 36,
    "cell_id": "00005-1445e6ca-8810-4474-bfb2-22c11c2c0755",
    "deepnote_cell_type": "code"
   },
   "source": "class Demo:\n    def __init__(self, time_step=0.001, exp_idx = 0):\n        \"\"\"\n        Robotic Kuka iiwa with paddle end effector\n\n        Args:\n            time_step (float, optional): time step for internal manipulation station controller. Defaults to 0.001.\n            exp_idx (int, optional): experiment index to run. Defaults to 0.\n        \"\"\"\n        \n        self.time = 0\n        self.metric = 0\n        \n        diagram, plant, scene_graph = MakeIiwaPaddleStation(time_step=time_step)\n        \n        self.plant = plant\n        self.builder = DiagramBuilder()\n        self.station = self.builder.AddSystem(diagram)\n        \n        self.visualizer = MeshcatVisualizerCpp.AddToBuilder(\n            self.builder,\n            diagram.GetOutputPort(\"geometry_query\"),\n            meshcat,\n            MeshcatVisualizerParams(delete_prefix_initialization_event=False)\n        )\n\n        self.plant.mutable_gravity_field().set_gravity_vector([0, 0, g])\n\n        ik_sys = self.builder.AddSystem(PseudoInverseController(self.plant))\n        ik_sys.set_name(\"ik_sys\")\n        catcher = self.builder.AddSystem(Catcher(self.plant))\n        catcher.set_name(\"catcher\")\n        integrator = self.builder.AddSystem(Integrator(7))\n        integrator.set_name(\"integrator\")\n\n        self.builder.Connect(ik_sys.get_output_port(), integrator.get_input_port())\n        self.builder.Connect(integrator.get_output_port(), self.station.GetInputPort(\"iiwa_position\"))\n        self.builder.Connect(self.station.GetOutputPort(\"ball_state\"), catcher.GetInputPort(\"ball_state\"))\n        self.builder.Connect(self.station.GetOutputPort(\"iiwa_position_measured\"), ik_sys.GetInputPort(\"iiwa_pos_measured\"))\n        self.builder.Connect(self.station.GetOutputPort(\"iiwa_position_measured\"), catcher.GetInputPort(\"iiwa_pos_measured\"))\n        self.builder.Connect(catcher.GetOutputPort(\"paddle_desired_velocity\"), ik_sys.GetInputPort(\"paddle_desired_velocity\"))\n        self.builder.Connect(self.station.GetOutputPort(\"iiwa_velocity_estimated\"), catcher.GetInputPort(\"iiwa_velocity_estimated\"))\n        self.builder.Connect(catcher.GetOutputPort(\"paddle_desired_angular_velocity\"), ik_sys.GetInputPort(\"paddle_desired_angular_velocity\"))\n        \n        self.diagram = self.builder.Build()\n        self.simulator = Simulator(self.diagram)\n        self.simulator.set_target_realtime_rate(1.0)\n\n        self.context = self.simulator.get_context()\n        self.station_context = self.station.GetMyContextFromRoot(self.context)\n        self.plant_context = self.plant.GetMyContextFromRoot(self.context)\n\n        self.plant.SetPositions(self.plant_context, self.plant.GetModelInstanceByName(\"iiwa7\"), np.array(iiwa_q0))\n        self.plant.SetPositionsAndVelocities(self.plant_context, self.plant.GetModelInstanceByName(\"ball\"), np.array(scenarios[exp_idx]))\n\n        self.station.GetInputPort(\"iiwa_feedforward_torque\").FixValue(self.station_context, np.zeros((7,1)))\n        iiwa_q = self.plant.GetPositions(self.plant_context, self.plant.GetModelInstanceByName(\"iiwa7\"))\n        integrator.GetMyContextFromRoot(self.context).get_mutable_continuous_state_vector().SetFromVector(iiwa_q)\n\n    def step(self, simulate=True, duration=0.1, final=True):\n        \"\"\"\n        Step the closed loop system\n\n        Args:\n            simulate (bool, optional): whether or not to visualize the command. Defaults to True.\n            duration (float, optional): duration to complete command in simulation. Defaults to 0.1.\n            final (bool, optional): whether or not this is the final command in the sequence; relevant for recording. Defaults to True.\n        \"\"\"\n        if simulate:\n\n            self.visualizer.StartRecording()\n            self.simulator.AdvanceTo(self.time + duration)\n            self.visualizer.StopRecording()\n\n            # Compute the stability metric\n            contact_results = self.plant.get_contact_results_output_port().Eval(self.plant_context)\n            for i in range(contact_results.num_point_pair_contacts()):\n                info = contact_results.point_pair_contact_info(i)\n                bodyA = self.plant.get_body(info.bodyA_index()).name()\n                bodyB = self.plant.get_body(info.bodyB_index()).name()\n                if (bodyA == \"ball\" and bodyB == \"base_link\") or (bodyA == \"base_link\" and bodyB == \"ball\"):\n                    self.metric += duration\n\n            if final:\n                self.visualizer.PublishRecording()\n                return self.time + duration\n\n        self.time += duration",
   "outputs": [],
   "execution_count": null
  },
  {
   "cell_type": "markdown",
   "source": "### Experiments",
   "metadata": {
    "tags": [],
    "cell_id": "00015-8f4a5bd4-c881-4049-9f4c-58dfc06dd967",
    "deepnote_cell_type": "markdown"
   }
  },
  {
   "cell_type": "code",
   "metadata": {
    "tags": [],
    "deepnote_to_be_reexecuted": false,
    "source_hash": "a0ebe4d8",
    "execution_start": 1638928876149,
    "execution_millis": 125063,
    "cell_id": "00006-8e3a707f-a61b-4200-917b-6644b91d5b4e",
    "deepnote_output_heights": [
     558.4375,
     462.5
    ],
    "deepnote_cell_type": "code"
   },
   "source": "time_step = .0005\n\nfor idx, experiment in enumerate(scenarios):\n    \n    start_time = time.perf_counter()\n    demo = Demo(time_step=time_step, exp_idx=idx)\n\n    seconds = simulation_time\n    for i in range(int(seconds * 20)):\n        t = demo.step(duration=0.05, final=i==seconds * 20 - 1)\n        if t is not None and t != seconds:\n            break\n    end_time = time.perf_counter()\n\n    metric_val = demo.metric\n    print(\"Experiment: \", idx)\n    print(\"Stability Metric: \", metric_val)\n    print(\"Total Time(s): \", (end_time - start_time))",
   "outputs": [
    {
     "name": "stdout",
     "text": "Experiment:  0\nStability Metric:  2.3499999999999996\nTotal Time(s):  13.677109789976384\nExperiment:  1\nStability Metric:  0\nTotal Time(s):  14.37338693201309\nExperiment:  2\nStability Metric:  0\nTotal Time(s):  13.990958713984583\nExperiment:  3\nStability Metric:  2.3999999999999995\nTotal Time(s):  13.84157278802013\nExperiment:  4\nStability Metric:  0\nTotal Time(s):  12.952422180038411\nExperiment:  5\nStability Metric:  0\nTotal Time(s):  13.638244081987068\nExperiment:  6\nStability Metric:  0\nTotal Time(s):  14.251578803989105\nExperiment:  7\nStability Metric:  0\nTotal Time(s):  14.187160459987354\nExperiment:  8\nStability Metric:  0\nTotal Time(s):  14.149227285990492\n",
     "output_type": "stream"
    }
   ],
   "execution_count": null
  },
  {
   "cell_type": "markdown",
   "source": "<a style='text-decoration:none;line-height:16px;display:flex;color:#5B5B62;padding:10px;justify-content:end;' href='https://deepnote.com?utm_source=created-in-deepnote-cell&projectId=b95b60bf-1e32-44f8-a07c-9240db62d20a' target=\"_blank\">\n<img alt='Created in deepnote.com' style='display:inline;max-height:16px;margin:0px;margin-right:7.5px;' src='data:image/svg+xml;base64,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' > </img>\nCreated in <span style='font-weight:600;margin-left:4px;'>Deepnote</span></a>",
   "metadata": {
    "tags": [],
    "created_in_deepnote_cell": true,
    "deepnote_cell_type": "markdown"
   }
  }
 ],
 "nbformat": 4,
 "nbformat_minor": 5,
 "metadata": {
  "deepnote": {},
  "deepnote_execution_queue": [],
  "deepnote_notebook_id": "194581a4-9a30-4b3c-94dd-0eb3683767c8",
  "kernelspec": {
   "display_name": "Python 3 (ipykernel)",
   "language": "python",
   "name": "python3"
  },
  "language_info": {
   "codemirror_mode": {
    "name": "ipython",
    "version": 3
   },
   "file_extension": ".py",
   "mimetype": "text/x-python",
   "name": "python",
   "nbconvert_exporter": "python",
   "pygments_lexer": "ipython3",
   "version": "3.8.10"
  }
 }
}